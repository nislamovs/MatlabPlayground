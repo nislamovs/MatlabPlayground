{
 "cells": [
  {
   "cell_type": "code",
   "execution_count": null,
   "metadata": {},
   "outputs": [],
   "source": [
    "% plot gnuplot\n",
    "% plot --format svg\n",
    "x = linspace(0, 2*pi, 30)\n",
    "y = sin(x)\n",
    "plot(x,y)"
   ]
  },
  {
   "cell_type": "code",
   "execution_count": null,
   "metadata": {},
   "outputs": [],
   "source": []
  },
  {
   "cell_type": "code",
   "execution_count": 3,
   "metadata": {},
   "outputs": [
    {
     "name": "stdout",
     "output_type": "stream",
     "text": [
      "Symbolic pkg v3.1.1: Python communication link active, SymPy v1.5.1.\n",
      "f = (sym)\n",
      "\n",
      "     3⎛x⎞\n",
      "  sin ⎜─⎟\n",
      "      ⎝2⎠\n",
      "\n",
      "ans = (sym)\n",
      "\n",
      "       2⎛x⎞    ⎛x⎞\n",
      "  3⋅sin ⎜─⎟⋅cos⎜─⎟\n",
      "        ⎝2⎠    ⎝2⎠\n",
      "  ────────────────\n",
      "         2        \n",
      "\n"
     ]
    }
   ],
   "source": [
    "pkg load symbolic\n",
    "syms x\n",
    "\n",
    "f=(sin(x/2))^3\n",
    "diff(f, x)\n"
   ]
  },
  {
   "cell_type": "code",
   "execution_count": 1,
   "metadata": {},
   "outputs": [
    {
     "name": "stdout",
     "output_type": "stream",
     "text": [
      "error: 't' undefined near line 1 column 27\n",
      "error: 't' undefined near line 1 column 6\n"
     ]
    }
   ],
   "source": [
    "sqwave = 0.81*square(4*pi*t);\n",
    "plot(t,sqwave)"
   ]
  },
  {
   "cell_type": "code",
   "execution_count": null,
   "metadata": {},
   "outputs": [],
   "source": []
  }
 ],
 "metadata": {
  "kernelspec": {
   "display_name": "Octave",
   "language": "octave",
   "name": "octave"
  },
  "language_info": {
   "file_extension": ".m",
   "help_links": [
    {
     "text": "GNU Octave",
     "url": "https://www.gnu.org/software/octave/support.html"
    },
    {
     "text": "Octave Kernel",
     "url": "https://github.com/Calysto/octave_kernel"
    },
    {
     "text": "MetaKernel Magics",
     "url": "https://metakernel.readthedocs.io/en/latest/source/README.html"
    }
   ],
   "mimetype": "text/x-octave",
   "name": "octave",
   "version": "5.2.0"
  }
 },
 "nbformat": 4,
 "nbformat_minor": 4
}
